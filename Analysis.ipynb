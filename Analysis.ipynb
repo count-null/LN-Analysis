{
 "cells": [
  {
   "cell_type": "markdown",
   "metadata": {},
   "source": [
    "#### Imports"
   ]
  },
  {
   "cell_type": "code",
   "execution_count": 1,
   "metadata": {},
   "outputs": [],
   "source": [
    "from helpers import graphSelector,remove_subs\n",
    "import networkx as nx\n",
    "from copy import deepcopy\n",
    "import matplotlib.pyplot as plt\n",
    "import subprocess\n",
    "from subprocess import call\n",
    "import threading\n",
    "import base64\n",
    "from concurrent.futures import ThreadPoolExecutor as PoolExecutor\n",
    "from random import choices\n",
    "from collections import defaultdict\n",
    "\n"
   ]
  },
  {
   "cell_type": "markdown",
   "metadata": {},
   "source": [
    "#### Functions"
   ]
  },
  {
   "cell_type": "code",
   "execution_count": 20,
   "metadata": {},
   "outputs": [],
   "source": [
    "\n",
    "def get_all_components(articulation_nodes,G):\n",
    "    \"\"\"\n",
    "    creates a dictionary mapping articulation points to the components resulting from its removal (excluding mainnet)\n",
    "    \"\"\"\n",
    "    all_components = {}\n",
    "    for node in articulation_nodes:\n",
    "        components = temp_remove(G, node)\n",
    "        mainnet = max(components,key=len)\n",
    "        components.remove(mainnet)\n",
    "        nodes_in_components = sum([len(x) for x in components])\n",
    "        nbr_of_components = len(components)\n",
    "\n",
    "        # print(G.degree[node],nbr_of_components,nodes_in_components)\n",
    "        if nodes_in_components/nbr_of_components > 1:\n",
    "            print(node,nodes_in_components/nbr_of_components)\n",
    "        all_components[node] = components\n",
    "    return all_components\n",
    "\n",
    "def temp_remove(G,v_id):\n",
    "    \"\"\"\n",
    "    create a copy of the graph, remove the node (art. point), and return the resulting components\n",
    "    \"\"\"\n",
    "    temp_G = deepcopy(G)\n",
    "    temp_G.remove_nodes_from([v_id])\n",
    "    components = list(nx.connected_components(temp_G)) # AT LEAST 2\n",
    "    return  components\n",
    "\n",
    "\n",
    "def generate_paths(G,nodes):\n",
    "    \"\"\"\n",
    "    pick 2 random points, find the shortest path between them (hops) \n",
    "    make a list of shortest paths and keep a count of the occurences of nodes in each path (dict: node->int)\n",
    "    \"\"\"\n",
    "    node_count = defaultdict(int)\n",
    "    for i in range(int(len(nodes)*10)): # more iterations -> higher chance of finding long shortest paths\n",
    "        n_1,n_2 = choices(nodes,k=2)\n",
    "        path = nx.shortest_path(G,source = n_1,target = n_2)\n",
    "        paths.append(path)\n",
    "        for node in path:\n",
    "            node_count[node]+=1\n",
    "    return paths,node_count"
   ]
  },
  {
   "cell_type": "markdown",
   "metadata": {},
   "source": [
    "#### Select Graph"
   ]
  },
  {
   "cell_type": "code",
   "execution_count": 3,
   "metadata": {},
   "outputs": [],
   "source": [
    "G = graphSelector()\n",
    "G = remove_subs(G)# remove all subgraphs besides the largest (mainnet)"
   ]
  },
  {
   "cell_type": "markdown",
   "metadata": {},
   "source": [
    "#### Get Articulation Points"
   ]
  },
  {
   "cell_type": "code",
   "execution_count": 4,
   "metadata": {
    "scrolled": true
   },
   "outputs": [
    {
     "name": "stdout",
     "output_type": "stream",
     "text": [
      "355 articulation points\n"
     ]
    }
   ],
   "source": [
    "# an articulation point is a node whose remove causes there to be partition in the network\n",
    "allArticulators = list(nx.articulation_points(G))\n",
    "filtered_a_nodes = list(filter(lambda n: G.degree[n]>1,allArticulators))\n",
    "print(f\"{len(allArticulators)} articulation points\")\n",
    "    \n",
    "\n"
   ]
  },
  {
   "cell_type": "markdown",
   "metadata": {},
   "source": [
    "#### Get components"
   ]
  },
  {
   "cell_type": "code",
   "execution_count": 6,
   "metadata": {},
   "outputs": [
    {
     "name": "stdout",
     "output_type": "stream",
     "text": [
      "03b4e0993e0324b429c1e1c4a2dcad28a26d62b2e8f8c28804bb49e519c1d28f9f\n",
      "02b932cca768beb6fb43fcf1d17ecfc7a8a724cbd83f52a8463adf1096446d4492\n",
      "0297a77f4d1ccc55d7a10a9b137119b1103d9a9d38a5a97ffa1d0152c818fcdd0a\n",
      "036603e9073556d0d6560c6693d6459b5818ad25298b5f095585e7a9b6702dbbf3\n",
      "02004c625d622245606a1ea2c1c69cfb4516b703b47945a3647713c05fe4aaeb1c\n",
      "0391489a933ab83094d1af43b3df3e8c8d467474649361912f05211d0e68a28fc9\n",
      "039edc94987c8f3adc28dab455efc00dea876089a120f573bd0b03c40d9d3fb1e1\n",
      "02ad6fb8d693dc1e4569bcedefadf5f72a931ae027dc0f0c544b34c1c6f3b9a02b\n",
      "03864ef025fde8fb587d989186ce6a4a186895ee44a926bfc370e2c366597a3f8f\n"
     ]
    }
   ],
   "source": [
    "all_components = get_all_components(filtered_a_nodes,G)\n",
    "# printed node ID's have at least one component with more than one node (usually two) lol \n",
    "# pretty innefficient\n",
    "# if we don't need this information, we could just remove all articulation points \n",
    "# and then remove all components but the largest one (mainnet)"
   ]
  },
  {
   "cell_type": "markdown",
   "metadata": {},
   "source": [
    "#### Remove nodes in components from graph"
   ]
  },
  {
   "cell_type": "code",
   "execution_count": 8,
   "metadata": {
    "scrolled": true
   },
   "outputs": [
    {
     "name": "stdout",
     "output_type": "stream",
     "text": [
      "2645 nodes in 355 components ~ 7.45 average\n",
      "# nodes in OG Graph: 6063\n",
      "# nodes in NewGraph: 3427 43.48% node reduction\n"
     ]
    }
   ],
   "source": [
    "# Flatten Component List\n",
    "flattened_component_list =[]\n",
    "for key,component_set in all_components.items():\n",
    "    for component in component_set:\n",
    "        for node in component:\n",
    "            flattened_component_list.append(node)\n",
    "\n",
    "mainnet = deepcopy(G)\n",
    "mainnet.remove_nodes_from(flattened_component_list)\n",
    "            \n",
    "# Stats           \n",
    "nmbr_components = len(all_components)\n",
    "nmbr_nodes = len(flattened_component_list)\n",
    "avg_nodes = nmbr_nodes/nmbr_components\n",
    "node_reduction = round((len(G.nodes())-len(mainnet.nodes()))/len(G.nodes())*100,2)\n",
    "print(f\"{nmbr_nodes} nodes in {len(all_components)} components ~ {round(avg_nodes,2)} average\")\n",
    "print(f\"# nodes in OG Graph: {len(G.nodes())}\")\n",
    "print(f\"# nodes in Mainnet: {len(mainnet.nodes())} {node_reduction}% node reduction\")"
   ]
  },
  {
   "cell_type": "markdown",
   "metadata": {},
   "source": [
    "#### Draw Mainnet"
   ]
  },
  {
   "cell_type": "code",
   "execution_count": 9,
   "metadata": {},
   "outputs": [
    {
     "data": {
      "image/png": "[encoded data removed]",
      "text/plain": [
       "<Figure size 432x288 with 1 Axes>"
      ]
     },
     "metadata": {},
     "output_type": "display_data"
    }
   ],
   "source": [
    "nx.draw(mainnet)\n",
    "plt.show()"
   ]
  },
  {
   "cell_type": "markdown",
   "metadata": {},
   "source": [
    "#### Ranking articulation points "
   ]
  },
  {
   "cell_type": "code",
   "execution_count": 10,
   "metadata": {},
   "outputs": [
    {
     "name": "stdout",
     "output_type": "stream",
     "text": [
      "Articulation points sorted by number of nodes disconnected from mainnet\n",
      "023d70f2f76d283c6c4e58109ee3a2816eb9d8feb40b23d62469060a2b2867b77f 336\n",
      "0331f80652fb840239df8dc99205792bba2e559a05469915804c08420230e23c7c 222\n",
      "0217890e3aad8d35bc054f43acc00084b25229ecff0ab68debd82883ad65ee8266 151\n",
      "02a0591e848d24246a349fe61c5d7a86bab7c3d9598366675b9c91deb3e31ddf57 146\n",
      "0227230b7b685f1742b944bfc5d79ddc8c5a90b68499775ee10895f87307d8d22e 144\n",
      "0297a77f4d1ccc55d7a10a9b137119b1103d9a9d38a5a97ffa1d0152c818fcdd0a 96\n",
      "0395033b252c6f40e3756984162d68174e2bd8060a129c0d3462a9370471c6d28f 79\n",
      "02ad6fb8d693dc1e4569bcedefadf5f72a931ae027dc0f0c544b34c1c6f3b9a02b 68\n",
      "03757b80302c8dfe38a127c252700ec3052e5168a7ec6ba183cdab2ac7adad3910 60\n",
      "0242a4ae0c5bef18048fbecf995094b74bfb0f7391418d71ed394784373f41e4f3 53\n",
      "\n",
      "Articulation points sorted by their degree after non-mainnet components are removed\n",
      "02ad6fb8d693dc1e4569bcedefadf5f72a931ae027dc0f0c544b34c1c6f3b9a02b 68\n",
      "0217890e3aad8d35bc054f43acc00084b25229ecff0ab68debd82883ad65ee8266 151\n",
      "0331f80652fb840239df8dc99205792bba2e559a05469915804c08420230e23c7c 222\n",
      "0242a4ae0c5bef18048fbecf995094b74bfb0f7391418d71ed394784373f41e4f3 53\n",
      "03864ef025fde8fb587d989186ce6a4a186895ee44a926bfc370e2c366597a3f8f 32\n",
      "03bb88ccc444534da7b5b64b4f7b15e1eccb18e102db0e400d4b9cfe93763aa26d 33\n",
      "0395033b252c6f40e3756984162d68174e2bd8060a129c0d3462a9370471c6d28f 79\n",
      "03abf6f44c355dec0d5aa155bdbdd6e0c8fefe318eff402de65c6eb2e1be55dc3e 19\n",
      "02004c625d622245606a1ea2c1c69cfb4516b703b47945a3647713c05fe4aaeb1c 37\n",
      "0390b5d4492dc2f5318e5233ab2cebf6d48914881a33ef6a9c6bcdbb433ad986d0 47\n"
     ]
    }
   ],
   "source": [
    "sorted_art_points = sorted(allArticulators,key = lambda x : -sum([len(component) for component in all_components[x]]))\n",
    "#for k,v in all_components.items():\n",
    "#    num_peeps = sum([len(component) for component in v])\n",
    "print(\"Articulation points sorted by number of nodes disconnected from mainnet\")\n",
    "for i in range(10):\n",
    "    print(sorted_art_points[i],sum([len(component) for component in all_components[sorted_art_points[i]]]))\n",
    "print()\n",
    "# sort the art points by degree after the components have been removed\n",
    "print(\"Articulation points sorted by their degree after non-mainnet components are removed\")\n",
    "sorted_art_points = sorted(allArticulators,key = lambda x:-G.degree[x])\n",
    "for i in range(10):\n",
    "    print(sorted_art_points[i],sum([len(component) for component in all_components[sorted_art_points[i]]]))"
   ]
  },
  {
   "cell_type": "markdown",
   "metadata": {},
   "source": [
    "#### Generate shortest paths to find nodes with high betweeness centrality"
   ]
  },
  {
   "cell_type": "code",
   "execution_count": 23,
   "metadata": {},
   "outputs": [],
   "source": [
    "# assume everyone is the same fee\n",
    "# take ... 40% of the nodes and the pairs between them. find the shortest paths\n",
    "# find the nodes that appear the most in the path. do a bfs from this set of nodes \n",
    "# the nodes that appear last are the 'edge' nodes \n",
    "# try connecting 4 distant edge nodes and how that affects the network \n",
    "paths=[]\n",
    "paths,node_count = generate_paths(mainnet,list(mainnet.nodes()))\n",
    "sorted_paths = sorted(paths,key=len,reverse=True)\n",
    "\n",
    "\n",
    "# for i in range(10):\n",
    "#     print(len(sorted_paths[i]))\n",
    "# sorted_nodes = sorted(list(node_count.keys()),key=lambda x:-node_count[x])\n",
    "# for i in range(10):\n",
    "#     print(sorted_nodes[i],node_count[sorted_nodes[i]])\n",
    "\n",
    "\n"
   ]
  },
  {
   "cell_type": "markdown",
   "metadata": {},
   "source": [
    "#### Plot shortest path lengths"
   ]
  },
  {
   "cell_type": "code",
   "execution_count": 24,
   "metadata": {},
   "outputs": [
    {
     "data": {
      "image/png": "[encoded data removed]",
      "text/plain": [
       "<Figure size 432x288 with 1 Axes>"
      ]
     },
     "metadata": {
      "needs_background": "light"
     },
     "output_type": "display_data"
    }
   ],
   "source": [
    "plt.hist([len(sorted_paths[i]) for i in range(len(sorted_paths))])\n",
    "# [print(len(sorted_paths[i])) for i in range(len(sorted_paths))]\n",
    "plt.show()\n",
    "# most paths are length 4 (well connected network!!)"
   ]
  },
  {
   "cell_type": "code",
   "execution_count": 26,
   "metadata": {},
   "outputs": [],
   "source": [
    "tree = nx.bfs_tree(mainnet,sorted_nodes[0]) \n",
    "# generate a bfs tree from the node that has highest betweeness centrality\n",
    "# nodes in this tree without an out degree are farthest from the 'center'\n",
    "# can be done multiple times using the top 5? nodes\n",
    "# then take the intersection of all of the leaf nodes to see which nodes are farthest from all of the central nodes\n",
    "# by creating channels with these leaf nodes and the central nodes, we are essentially folding the network in on itself"
   ]
  },
  {
   "cell_type": "code",
   "execution_count": 27,
   "metadata": {},
   "outputs": [
    {
     "data": {
      "image/png": "[encoded data removed]",
      "text/plain": [
       "<Figure size 432x288 with 1 Axes>"
      ]
     },
     "metadata": {},
     "output_type": "display_data"
    }
   ],
   "source": [
    "nx.draw(tree)\n",
    "plt.show()"
   ]
  },
  {
   "cell_type": "markdown",
   "metadata": {},
   "source": [
    "#### Get leaf nodes"
   ]
  },
  {
   "cell_type": "code",
   "execution_count": 28,
   "metadata": {},
   "outputs": [],
   "source": [
    "leaves = [] \n",
    "for node,degree in dict(tree.out_degree).items():\n",
    "    if degree==0:\n",
    "        leaves.append(node)\n"
   ]
  },
  {
   "cell_type": "code",
   "execution_count": 29,
   "metadata": {},
   "outputs": [
    {
     "name": "stdout",
     "output_type": "stream",
     "text": [
      "2959 3427\n"
     ]
    }
   ],
   "source": [
    "print(len(leaves),len(tree.nodes))"
   ]
  },
  {
   "cell_type": "markdown",
   "metadata": {},
   "source": [
    "#### Generate paths between leaf nodes only"
   ]
  },
  {
   "cell_type": "code",
   "execution_count": 32,
   "metadata": {},
   "outputs": [
    {
     "name": "stdout",
     "output_type": "stream",
     "text": [
      "6\n",
      "6\n",
      "6\n",
      "6\n",
      "6\n",
      "6\n",
      "6\n",
      "6\n",
      "6\n",
      "6\n",
      "0217890e3aad8d35bc054f43acc00084b25229ecff0ab68debd82883ad65ee8266 4068\n",
      "02ad6fb8d693dc1e4569bcedefadf5f72a931ae027dc0f0c544b34c1c6f3b9a02b 3662\n",
      "0242a4ae0c5bef18048fbecf995094b74bfb0f7391418d71ed394784373f41e4f3 2707\n",
      "03864ef025fde8fb587d989186ce6a4a186895ee44a926bfc370e2c366597a3f8f 2321\n",
      "0331f80652fb840239df8dc99205792bba2e559a05469915804c08420230e23c7c 2171\n",
      "03bb88ccc444534da7b5b64b4f7b15e1eccb18e102db0e400d4b9cfe93763aa26d 1859\n",
      "03abf6f44c355dec0d5aa155bdbdd6e0c8fefe318eff402de65c6eb2e1be55dc3e 1576\n",
      "0395033b252c6f40e3756984162d68174e2bd8060a129c0d3462a9370471c6d28f 1491\n",
      "0390b5d4492dc2f5318e5233ab2cebf6d48914881a33ef6a9c6bcdbb433ad986d0 1426\n",
      "02004c625d622245606a1ea2c1c69cfb4516b703b47945a3647713c05fe4aaeb1c 934\n"
     ]
    }
   ],
   "source": [
    "leave_paths=[]\n",
    "node_count = defaultdict(int)\n",
    "\n",
    "\n",
    "leave_paths,node_count = generate_paths(mainnet,leaves)\n",
    "    \n",
    "    \n",
    "sorted_paths = sorted(leave_paths,key=len,reverse=True)\n",
    "\n",
    "for i in range(10):\n",
    "    print(len((sorted_paths[i])))\n",
    "    \n",
    "sorted_nodes = sorted(list(node_count.keys()),key=lambda x:-node_count[x])\n",
    "for i in range(10):\n",
    "    print(sorted_nodes[i],node_count[sorted_nodes[i]])\n",
    "# NOTE: There are a lot more 'long' shortest paths found"
   ]
  },
  {
   "cell_type": "code",
   "execution_count": 33,
   "metadata": {},
   "outputs": [
    {
     "data": {
      "image/png": "[encoded data removed]",
      "text/plain": [
       "<Figure size 432x288 with 1 Axes>"
      ]
     },
     "metadata": {
      "needs_background": "light"
     },
     "output_type": "display_data"
    }
   ],
   "source": [
    "plt.hist([len(ele) for ele in leave_paths])\n",
    "# [print(len(sorted_paths[i])) for i in range(len(sorted_paths))]\n",
    "plt.show()"
   ]
  },
  {
   "cell_type": "code",
   "execution_count": 41,
   "metadata": {},
   "outputs": [
    {
     "data": {
      "image/png": "[encoded data removed]",
      "text/plain": [
       "<Figure size 432x288 with 1 Axes>"
      ]
     },
     "metadata": {
      "needs_background": "light"
     },
     "output_type": "display_data"
    }
   ],
   "source": [
    "# print(node_count.keys(),node_count.values())\n",
    "plt.bar(range(len(node_count.keys())),list(node_count.values()))\n",
    "plt.show()"
   ]
  },
  {
   "cell_type": "markdown",
   "metadata": {},
   "source": [
    "#### Hyperopt scratch (unfinished)"
   ]
  },
  {
   "cell_type": "code",
   "execution_count": null,
   "metadata": {},
   "outputs": [],
   "source": [
    "centers, leaves = 1000,1000\n",
    "\n",
    "# we only want the top nodes respectively\n",
    "\n",
    "import hyperopt.pyll\n",
    "from hyperopt.pyll import scope\n",
    "from hyperopt.pyll.stochastic import sample\n",
    "import numpy as np\n",
    "\n",
    "\"\"\"\n",
    "# Add a new method as you want\n",
    "@scope.define\n",
    "def subbleset(choices, num_choices):\n",
    "    return np.random.choice(choices, size=num_choices, replace=False)\n",
    "\"\"\"\n",
    "choices = range(0,100)\n",
    "\n",
    "# Define the space like below and use in fmin\n",
    "space = {\n",
    "    \"centers\":scope.subbleset(choices,hp.randint(\"num_choices\",0,101)),\n",
    "    \"leaves\":scope.subbleset(choices,hp.randint(\"_num_choices\",0,101))\n",
    "}\n",
    "\n",
    "\n",
    "# define an objective function\n",
    "def objective(args):\n",
    "    \n",
    "    # indices of the top 100 leaf nodes and center nodes \n",
    "    # leaf nodes are those that appear as leafs of center nodes in a bfs  \n",
    "    # and are endpoints in longest shortest paths\n",
    "    # center nodes are nodes that appear most often in shortest paths \n",
    "    \n",
    "    _leaves = args[\"leaves\"]\n",
    "    _centers = args[\"centers\"]\n",
    "\n",
    "    \n",
    "    \n",
    "    \n",
    "    \n",
    "    cost = (np.sum(_centers)+np.sum(_leaves))\n",
    "    #print(cost)\n",
    "    return {'loss':cost, 'status': STATUS_OK}\n",
    "\"\"\"                           \n",
    "# define a search space\n",
    "space = {\n",
    "    \"leaves\":[hp.choice(f'l{i}' ,[0,1]) for i in range(leaves)],\n",
    "    \"centers\":[hp.choice(f'c{i}',[0,1]) for i in range(centers)]\n",
    "}\n",
    "\"\"\"\n",
    "# minimize the objective over the space\n",
    "best = fmin(objective, space, algo=tpe.suggest, max_evals=1000)\n",
    "\n",
    "print(best)\n",
    "#print([round(v) for v in best.values()])\n",
    "\n",
    "print(hyperopt.space_eval(space, best))\n",
    "\n",
    "\n",
    "\n",
    "\n",
    "\n",
    "\n",
    "\n",
    "\n",
    "\n",
    "\n",
    "\n",
    "\n",
    "\n",
    "\n",
    "\n",
    "\n",
    "\n",
    "\n",
    "\n",
    "\n",
    "\n",
    "\n"
   ]
  },
  {
   "cell_type": "code",
   "execution_count": null,
   "metadata": {},
   "outputs": [],
   "source": []
  },
  {
   "cell_type": "code",
   "execution_count": null,
   "metadata": {},
   "outputs": [],
   "source": []
  },
  {
   "cell_type": "code",
   "execution_count": null,
   "metadata": {},
   "outputs": [],
   "source": []
  }
 ],
 "metadata": {
  "kernelspec": {
   "display_name": "Python 3",
   "language": "python",
   "name": "python3"
  },
  "language_info": {
   "codemirror_mode": {
    "name": "ipython",
    "version": 3
   },
   "file_extension": ".py",
   "mimetype": "text/x-python",
   "name": "python",
   "nbconvert_exporter": "python",
   "pygments_lexer": "ipython3",
   "version": "3.7.4"
  }
 },
 "nbformat": 4,
 "nbformat_minor": 4
}
